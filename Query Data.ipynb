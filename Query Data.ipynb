{
 "cells": [
  {
   "cell_type": "code",
   "execution_count": 44,
   "metadata": {
    "collapsed": true,
    "pycharm": {
     "name": "#%%\n"
    }
   },
   "outputs": [],
   "source": [
    "import json\n",
    "with open(\"queries.json\", 'r') as f:\n",
    "    queries = json.load(f)\n",
    "\n",
    "# for idx, query in enumerate(queries):\n",
    "# \tprint(f\"{idx}: {query}\")"
   ]
  },
  {
   "cell_type": "code",
   "execution_count": 40,
   "outputs": [
    {
     "data": {
      "text/plain": "60"
     },
     "execution_count": 40,
     "metadata": {},
     "output_type": "execute_result"
    }
   ],
   "source": [
    "len(queries)"
   ],
   "metadata": {
    "collapsed": false,
    "pycharm": {
     "name": "#%%\n"
    }
   }
  },
  {
   "cell_type": "code",
   "execution_count": 90,
   "outputs": [],
   "source": [
    "import os\n",
    "# Function to rename multiple files\n",
    "def main():\n",
    "\ti = 0\n",
    "\tpath=\"data/raw_data/\"\n",
    "\tfor filename in os.listdir(path):\n",
    "\t\tmy_dest = 'query_' + str(i) + \".csv\"\n",
    "\t\tmy_source = path + filename\n",
    "\t\tmy_dest =path + my_dest\n",
    "\t\t# rename() function will\n",
    "\t\t# rename all the files\n",
    "\t\tos.rename(my_source, my_dest)\n",
    "\t\ti += 1\n",
    "\n",
    "main()"
   ],
   "metadata": {
    "collapsed": false,
    "pycharm": {
     "name": "#%%\n"
    }
   }
  },
  {
   "cell_type": "code",
   "execution_count": 1,
   "outputs": [],
   "source": [
    "import os\n",
    "import numpy as np\n",
    "import pandas as pd\n",
    "from scipy.interpolate import CubicSpline\n",
    "# Function to rename multiple files\n",
    "def clean():\n",
    "\ti = 0\n",
    "\tpath=\"data/raw_data/\"\n",
    "\tfor filename in os.listdir(path):\n",
    "\t\tfile = 'query_' + str(i) + \".csv\"\n",
    "\t\tdf = pd.read_csv(path+file)\n",
    "\t\tdf.columns = [df.iloc[0, 0].split(':')[0].strip()]\n",
    "\t\tdf = df.iloc[1:, :]\n",
    "\t\tdf = df.replace('<1', '0').astype(np.float32)\n",
    "\n",
    "\t\t# cs = CubicSpline(x = np.arange(0, len(df)*7, step=7), y = df.iloc[:, 0])\n",
    "\t\t#\n",
    "\t\t# new_values = []\n",
    "\t\t# for j in range(7*len(df)):\n",
    "\t\t# \tnew_values.append(cs(j))\n",
    "\n",
    "\t\t# date_range = pd.date_range(start = df.index[0], periods = len(new_values))\n",
    "\t\t# data = pd.DataFrame(data = {f'{df.columns[0]}': new_values}, index = date_range)\n",
    "\t\t# data.to_csv(f'data/clean_data/'+file)\n",
    "\n",
    "\t\tdf.index = pd.to_datetime(df.index)\n",
    "\t\tdf.to_csv(f\"data/clean_data/\"+file)\n",
    "\t\ti += 1\n",
    "\n",
    "clean()"
   ],
   "metadata": {
    "collapsed": false,
    "pycharm": {
     "name": "#%%\n"
    }
   }
  },
  {
   "cell_type": "code",
   "execution_count": 2,
   "outputs": [
    {
     "name": "stdout",
     "output_type": "stream",
     "text": [
      "Index(['2004-01-01', '2004-02-01', '2004-03-01', '2004-04-01', '2004-05-01',\n",
      "       '2004-06-01', '2004-07-01', '2004-08-01', '2004-09-01', '2004-10-01',\n",
      "       ...\n",
      "       '2022-06-01', '2022-07-01', '2022-08-01', '2022-09-01', '2022-10-01',\n",
      "       '2022-11-01', '2022-12-01', '2023-01-01', '2023-02-01', '2023-03-01'],\n",
      "      dtype='object', length=231)\n"
     ]
    }
   ],
   "source": [
    "df = pd.read_csv(f\"data/clean_data/query_0.csv\", index_col = 0)\n",
    "print(df.index)"
   ],
   "metadata": {
    "collapsed": false,
    "pycharm": {
     "name": "#%%\n"
    }
   }
  },
  {
   "cell_type": "code",
   "execution_count": 3,
   "outputs": [
    {
     "name": "stdout",
     "output_type": "stream",
     "text": [
      "[*********************100%***********************]  4 of 4 completed\n",
      "            INFLATION        DXY        SP500  10Y_BOND  Term Spread  \\\n",
      "2004-01-01    2.02629  87.199997  1131.130005     4.138        3.241   \n",
      "2004-02-01    1.68845  87.309998  1144.939941     3.984        3.057   \n",
      "2004-03-01    1.74008  87.610001  1126.209961     3.837        2.914   \n",
      "2004-04-01    2.29258  90.480003  1107.300049     4.501        3.549   \n",
      "2004-05-01    2.89776  88.949997  1120.680054     4.655        3.603   \n",
      "\n",
      "            UNEMPLOYMENT  EXPINF10YR  \n",
      "2004-01-01           5.7    2.316750  \n",
      "2004-02-01           5.6    2.275457  \n",
      "2004-03-01           5.8    2.171686  \n",
      "2004-04-01           5.6    2.148077  \n",
      "2004-05-01           5.6    2.454689  \n"
     ]
    }
   ],
   "source": [
    "import yfinance as yf\n",
    "import os\n",
    "import numpy as np\n",
    "import pandas as pd\n",
    "\n",
    "tickers = {\n",
    "        # 'VGT': \"Vanguard Information Technology Index Fund\",\n",
    "        \"^TNX\": \"10Y Bond Yields\",\n",
    "        'DX-Y.NYB': \"US Dollar Index\",\n",
    "        '^GSPC': \"S&P500 Index\",\n",
    "\t\t\"^IRX\": \"3M Bond Yields\"\n",
    "        }\n",
    "\n",
    "df = yf.download(list(tickers.keys()), start = '2004-01-01', interval='1mo')['Close']\n",
    "# df.columns = ['DXY', 'TECH', 'SPX', 'BOND_YIELDS']\n",
    "# print(df.head())\n",
    "\n",
    "df['Term Spread'] = df['^TNX'] - df['^IRX']\n",
    "df.drop(['^IRX'], axis=1, inplace = True)\n",
    "\n",
    "df1 = pd.read_csv(\"data/UNRATE.csv\", index_col = 0)\n",
    "df2 = pd.read_csv(\"data/EXPINF10YR.csv\", index_col =0)\n",
    "df3 = pd.read_csv(\"data/CPIAUCSL.csv\", index_col = 0)\n",
    "df1.index = pd.to_datetime(df1.index)\n",
    "df2.index = pd.to_datetime(df2.index)\n",
    "df3.index = pd.to_datetime(df3.index)\n",
    "\n",
    "dataframe = pd.concat([df3, df, df1, df2], axis=1, join = 'inner')\n",
    "\n",
    "mapper = {\n",
    "\t\t'CPIAUCSL_PC1': 'INFLATION',\n",
    "\t\t'DX-Y.NYB': 'DXY',\n",
    "\t\t'^GSPC': 'SP500',\n",
    "\t\t'UNRATE': 'UNEMPLOYMENT',\n",
    "\t\t'^TNX': '10Y_BOND'\n",
    "\t\t}\n",
    "\n",
    "dataframe = dataframe.rename(columns = mapper)\n",
    "dataframe = dataframe.ffill()\n",
    "print(dataframe.head())\n",
    "dataframe.to_csv('data/control_variables.csv')"
   ],
   "metadata": {
    "collapsed": false,
    "pycharm": {
     "name": "#%%\n"
    }
   }
  },
  {
   "cell_type": "code",
   "execution_count": 4,
   "outputs": [
    {
     "name": "stdout",
     "output_type": "stream",
     "text": [
      "<class 'pandas.core.frame.DataFrame'>\n",
      "DatetimeIndex: 231 entries, 2004-01-01 to 2023-03-01\n",
      "Freq: MS\n",
      "Data columns (total 72 columns):\n",
      " #   Column                                          Non-Null Count  Dtype  \n",
      "---  ------                                          --------------  -----  \n",
      " 0   loan interest calculator                        231 non-null    float64\n",
      " 1   current interest rate                           231 non-null    float64\n",
      " 2   home prices                                     231 non-null    float64\n",
      " 3   Ohio gas prices                                 231 non-null    float64\n",
      " 4   gas station prices                              231 non-null    float64\n",
      " 5   house prices                                    231 non-null    float64\n",
      " 6   current inflation                               231 non-null    float64\n",
      " 7   costco gas                                      231 non-null    float64\n",
      " 8   oil prices                                      231 non-null    float64\n",
      " 9   inflation rates                                 231 non-null    float64\n",
      " 10  costco gas prices                               231 non-null    float64\n",
      " 11  house for sale                                  231 non-null    float64\n",
      " 12  house sale prices                               231 non-null    float64\n",
      " 13  houses for sale                                 231 non-null    float64\n",
      " 14  mortgage rate                                   231 non-null    float64\n",
      " 15  gas prices                                      231 non-null    float64\n",
      " 16  natural gas prices                              231 non-null    float64\n",
      " 17  savings account interest                        231 non-null    float64\n",
      " 18  interest rate mortgage                          231 non-null    float64\n",
      " 19  natural gas                                     231 non-null    float64\n",
      " 20  texas house prices                              231 non-null    float64\n",
      " 21  gas prices today                                231 non-null    float64\n",
      " 22  what is inflation                               231 non-null    float64\n",
      " 23  inflation rate                                  231 non-null    float64\n",
      " 24  cheap gas prices                                231 non-null    float64\n",
      " 25  inflation index                                 231 non-null    float64\n",
      " 26  cheap gas                                       231 non-null    float64\n",
      " 27  transitory inflation                            231 non-null    float64\n",
      " 28  best gas prices                                 231 non-null    float64\n",
      " 29  current inflation rate                          231 non-null    float64\n",
      " 30  what is interest rate                           231 non-null    float64\n",
      " 31  inflation checks                                231 non-null    float64\n",
      " 32  calculate interest rate                         231 non-null    float64\n",
      " 33  fed interest rate                               231 non-null    float64\n",
      " 34  lowest gas prices                               231 non-null    float64\n",
      " 35  us inflation rate                               231 non-null    float64\n",
      " 36  interest rates                                  231 non-null    float64\n",
      " 37  cheapest gas prices                             231 non-null    float64\n",
      " 38  savings account interest rate                   231 non-null    float64\n",
      " 39  inflation                                       231 non-null    float64\n",
      " 40  interest rate                                   231 non-null    float64\n",
      " 41  average interest rate                           231 non-null    float64\n",
      " 42  interest calculator                             231 non-null    float64\n",
      " 43  interest rates                                  231 non-null    float64\n",
      " 44  inflation calculator                            231 non-null    float64\n",
      " 45  money inflation                                 231 non-null    float64\n",
      " 46  federal interest rate                           231 non-null    float64\n",
      " 47  economy                                         231 non-null    float64\n",
      " 48  inflation in us                                 231 non-null    float64\n",
      " 49  bank rate                                       231 non-null    float64\n",
      " 50  interest rate increase                          231 non-null    float64\n",
      " 51  cpi inflation                                   231 non-null    float64\n",
      " 52  real interest rate                              231 non-null    float64\n",
      " 53  how does raising interest rates help inflation  231 non-null    float64\n",
      " 54  what is the interest rate                       231 non-null    float64\n",
      " 55  cpi                                             231 non-null    float64\n",
      " 56  rate of inflation                               231 non-null    float64\n",
      " 57  what is the inflation rate                      231 non-null    float64\n",
      " 58  loan calculator                                 231 non-null    float64\n",
      " 59  inflation definition                            231 non-null    float64\n",
      " 60  real estate prices                              231 non-null    float64\n",
      " 61  us inflation                                    231 non-null    float64\n",
      " 62  what is inflation rate                          231 non-null    float64\n",
      " 63  california house prices                         231 non-null    float64\n",
      " 64  interest rate calculator                        231 non-null    float64\n",
      " 65  high gas prices                                 231 non-null    float64\n",
      " 66  car loan interest rate                          231 non-null    float64\n",
      " 67  us gas prices                                   231 non-null    float64\n",
      " 68  gdp                                             231 non-null    float64\n",
      " 69  interest rate today                             231 non-null    float64\n",
      " 70  unemployment rate                               231 non-null    float64\n",
      " 71  annual interest rate                            231 non-null    float64\n",
      "dtypes: float64(72)\n",
      "memory usage: 131.7 KB\n",
      "None\n"
     ]
    }
   ],
   "source": [
    "query_data = pd.DataFrame(index = dataframe.index)\n",
    "\n",
    "i = 0\n",
    "path=\"data/clean_data/\"\n",
    "for filename in os.listdir(path):\n",
    "\tfile = 'query_' + str(i) + \".csv\"\n",
    "\tdf = pd.read_csv(path+file, index_col = 0)\n",
    "\tdf.index = pd.to_datetime(df.index)\n",
    "\tquery_data = pd.concat([query_data, df], axis=1)\n",
    "\ti += 1\n",
    "\n",
    "print(query_data.info())\n"
   ],
   "metadata": {
    "collapsed": false,
    "pycharm": {
     "name": "#%%\n"
    }
   }
  },
  {
   "cell_type": "code",
   "execution_count": 28,
   "outputs": [
    {
     "name": "stdout",
     "output_type": "stream",
     "text": [
      "<class 'pandas.core.frame.DataFrame'>\n",
      "DatetimeIndex: 229 entries, 2004-01-01 to 2023-01-01\n",
      "Freq: MS\n",
      "Data columns (total 78 columns):\n",
      " #   Column                                          Non-Null Count  Dtype  \n",
      "---  ------                                          --------------  -----  \n",
      " 0   INFLATION                                       229 non-null    float64\n",
      " 1   DXY                                             229 non-null    float64\n",
      " 2   SP500                                           229 non-null    float64\n",
      " 3   10Y_BOND                                        229 non-null    float64\n",
      " 4   Term Spread                                     229 non-null    float64\n",
      " 5   UNEMPLOYMENT                                    229 non-null    float64\n",
      " 6   EXPINF10YR                                      229 non-null    float64\n",
      " 7   loan interest calculator                        229 non-null    float64\n",
      " 8   current interest rate                           229 non-null    float64\n",
      " 9   home prices                                     229 non-null    float64\n",
      " 10  Ohio gas prices                                 229 non-null    float64\n",
      " 11  gas station prices                              229 non-null    float64\n",
      " 12  house prices                                    229 non-null    float64\n",
      " 13  current inflation                               229 non-null    float64\n",
      " 14  costco gas                                      229 non-null    float64\n",
      " 15  oil prices                                      229 non-null    float64\n",
      " 16  inflation rates                                 229 non-null    float64\n",
      " 17  costco gas prices                               229 non-null    float64\n",
      " 18  house for sale                                  229 non-null    float64\n",
      " 19  house sale prices                               229 non-null    float64\n",
      " 20  houses for sale                                 229 non-null    float64\n",
      " 21  mortgage rate                                   229 non-null    float64\n",
      " 22  gas prices                                      229 non-null    float64\n",
      " 23  natural gas prices                              229 non-null    float64\n",
      " 24  savings account interest                        229 non-null    float64\n",
      " 25  interest rate mortgage                          229 non-null    float64\n",
      " 26  natural gas                                     229 non-null    float64\n",
      " 27  texas house prices                              229 non-null    float64\n",
      " 28  gas prices today                                229 non-null    float64\n",
      " 29  what is inflation                               229 non-null    float64\n",
      " 30  inflation rate                                  229 non-null    float64\n",
      " 31  cheap gas prices                                229 non-null    float64\n",
      " 32  inflation index                                 229 non-null    float64\n",
      " 33  cheap gas                                       229 non-null    float64\n",
      " 34  transitory inflation                            229 non-null    float64\n",
      " 35  best gas prices                                 229 non-null    float64\n",
      " 36  current inflation rate                          229 non-null    float64\n",
      " 37  what is interest rate                           229 non-null    float64\n",
      " 38  inflation checks                                229 non-null    float64\n",
      " 39  calculate interest rate                         229 non-null    float64\n",
      " 40  fed interest rate                               229 non-null    float64\n",
      " 41  lowest gas prices                               229 non-null    float64\n",
      " 42  us inflation rate                               229 non-null    float64\n",
      " 43  cheapest gas prices                             229 non-null    float64\n",
      " 44  savings account interest rate                   229 non-null    float64\n",
      " 45  inflation                                       229 non-null    float64\n",
      " 46  interest rate                                   229 non-null    float64\n",
      " 47  average interest rate                           229 non-null    float64\n",
      " 48  interest calculator                             229 non-null    float64\n",
      " 49  inflation calculator                            229 non-null    float64\n",
      " 50  money inflation                                 229 non-null    float64\n",
      " 51  federal interest rate                           229 non-null    float64\n",
      " 52  economy                                         229 non-null    float64\n",
      " 53  inflation in us                                 229 non-null    float64\n",
      " 54  bank rate                                       229 non-null    float64\n",
      " 55  interest rate increase                          229 non-null    float64\n",
      " 56  cpi inflation                                   229 non-null    float64\n",
      " 57  real interest rate                              229 non-null    float64\n",
      " 58  how does raising interest rates help inflation  229 non-null    float64\n",
      " 59  what is the interest rate                       229 non-null    float64\n",
      " 60  cpi                                             229 non-null    float64\n",
      " 61  rate of inflation                               229 non-null    float64\n",
      " 62  what is the inflation rate                      229 non-null    float64\n",
      " 63  loan calculator                                 229 non-null    float64\n",
      " 64  inflation definition                            229 non-null    float64\n",
      " 65  real estate prices                              229 non-null    float64\n",
      " 66  us inflation                                    229 non-null    float64\n",
      " 67  what is inflation rate                          229 non-null    float64\n",
      " 68  california house prices                         229 non-null    float64\n",
      " 69  interest rate calculator                        229 non-null    float64\n",
      " 70  high gas prices                                 229 non-null    float64\n",
      " 71  car loan interest rate                          229 non-null    float64\n",
      " 72  us gas prices                                   229 non-null    float64\n",
      " 73  gdp                                             229 non-null    float64\n",
      " 74  interest rate today                             229 non-null    float64\n",
      " 75  unemployment rate                               229 non-null    float64\n",
      " 76  annual interest rate                            229 non-null    float64\n",
      " 77  interest rates                                  229 non-null    float64\n",
      "dtypes: float64(78)\n",
      "memory usage: 141.3 KB\n",
      "None\n"
     ]
    }
   ],
   "source": [
    "final_data = pd.concat([dataframe, query_data], axis = 1)\n",
    "final_data.dropna(inplace = True)\n",
    "interest_rates=  final_data['interest rates']\n",
    "final_data = final_data.drop(['interest rates'], axis=1)\n",
    "final_data['interest rates'] = interest_rates.iloc[:, 0]\n",
    "\n",
    "print(final_data.info())"
   ],
   "metadata": {
    "collapsed": false,
    "pycharm": {
     "name": "#%%\n"
    }
   }
  },
  {
   "cell_type": "code",
   "execution_count": 29,
   "outputs": [
    {
     "name": "stderr",
     "output_type": "stream",
     "text": [
      "/var/folders/t6/2vvjnfk10mx932fmzp_hb4wr0000gn/T/ipykernel_20491/1647910547.py:2: InvalidColumnName: \n",
      "Not all pandas column names were valid Stata variable names.\n",
      "The following replacements have been made:\n",
      "\n",
      "    10Y_BOND   ->   _10Y_BOND\n",
      "    Term Spread   ->   Term_Spread\n",
      "    loan interest calculator   ->   loan_interest_calculator\n",
      "    current interest rate   ->   current_interest_rate\n",
      "    home prices   ->   home_prices\n",
      "    Ohio gas prices   ->   Ohio_gas_prices\n",
      "    gas station prices   ->   gas_station_prices\n",
      "    house prices   ->   house_prices\n",
      "    current inflation   ->   current_inflation\n",
      "    costco gas   ->   costco_gas\n",
      "    oil prices   ->   oil_prices\n",
      "    inflation rates   ->   inflation_rates\n",
      "    costco gas prices   ->   costco_gas_prices\n",
      "    house for sale   ->   house_for_sale\n",
      "    house sale prices   ->   house_sale_prices\n",
      "    houses for sale   ->   houses_for_sale\n",
      "    mortgage rate   ->   mortgage_rate\n",
      "    gas prices   ->   gas_prices\n",
      "    natural gas prices   ->   natural_gas_prices\n",
      "    savings account interest   ->   savings_account_interest\n",
      "    interest rate mortgage   ->   interest_rate_mortgage\n",
      "    natural gas   ->   natural_gas\n",
      "    texas house prices   ->   texas_house_prices\n",
      "    gas prices today   ->   gas_prices_today\n",
      "    what is inflation   ->   what_is_inflation\n",
      "    inflation rate   ->   inflation_rate\n",
      "    cheap gas prices   ->   cheap_gas_prices\n",
      "    inflation index   ->   inflation_index\n",
      "    cheap gas   ->   cheap_gas\n",
      "    transitory inflation   ->   transitory_inflation\n",
      "    best gas prices   ->   best_gas_prices\n",
      "    current inflation rate   ->   current_inflation_rate\n",
      "    what is interest rate   ->   what_is_interest_rate\n",
      "    inflation checks   ->   inflation_checks\n",
      "    calculate interest rate   ->   calculate_interest_rate\n",
      "    fed interest rate   ->   fed_interest_rate\n",
      "    lowest gas prices   ->   lowest_gas_prices\n",
      "    us inflation rate   ->   us_inflation_rate\n",
      "    cheapest gas prices   ->   cheapest_gas_prices\n",
      "    savings account interest rate   ->   savings_account_interest_rate\n",
      "    interest rate   ->   interest_rate\n",
      "    average interest rate   ->   average_interest_rate\n",
      "    interest calculator   ->   interest_calculator\n",
      "    inflation calculator   ->   inflation_calculator\n",
      "    money inflation   ->   money_inflation\n",
      "    federal interest rate   ->   federal_interest_rate\n",
      "    inflation in us   ->   inflation_in_us\n",
      "    bank rate   ->   bank_rate\n",
      "    interest rate increase   ->   interest_rate_increase\n",
      "    cpi inflation   ->   cpi_inflation\n",
      "    real interest rate   ->   real_interest_rate\n",
      "    how does raising interest rates help inflation   ->   how_does_raising_interest_rates_\n",
      "    what is the interest rate   ->   what_is_the_interest_rate\n",
      "    rate of inflation   ->   rate_of_inflation\n",
      "    what is the inflation rate   ->   what_is_the_inflation_rate\n",
      "    loan calculator   ->   loan_calculator\n",
      "    inflation definition   ->   inflation_definition\n",
      "    real estate prices   ->   real_estate_prices\n",
      "    us inflation   ->   us_inflation\n",
      "    what is inflation rate   ->   what_is_inflation_rate\n",
      "    california house prices   ->   california_house_prices\n",
      "    interest rate calculator   ->   interest_rate_calculator\n",
      "    high gas prices   ->   high_gas_prices\n",
      "    car loan interest rate   ->   car_loan_interest_rate\n",
      "    us gas prices   ->   us_gas_prices\n",
      "    interest rate today   ->   interest_rate_today\n",
      "    unemployment rate   ->   unemployment_rate\n",
      "    annual interest rate   ->   annual_interest_rate\n",
      "    interest rates   ->   interest_rates\n",
      "\n",
      "If this is not what you expect, please make sure you have Stata-compliant\n",
      "column names in your DataFrame (strings only, max 32 characters, only\n",
      "alphanumerics and underscores, no Stata reserved words)\n",
      "\n",
      "  final_data.to_stata('data/dataset.dta')\n"
     ]
    }
   ],
   "source": [
    "final_data.to_csv('data/dataset.csv')\n",
    "final_data.to_stata('data/dataset.dta')"
   ],
   "metadata": {
    "collapsed": false,
    "pycharm": {
     "name": "#%%\n"
    }
   }
  },
  {
   "cell_type": "code",
   "execution_count": 31,
   "outputs": [
    {
     "data": {
      "text/plain": "Index([], dtype='object')"
     },
     "execution_count": 31,
     "metadata": {},
     "output_type": "execute_result"
    }
   ],
   "source": [
    "final_data.columns[final_data.columns.duplicated()]"
   ],
   "metadata": {
    "collapsed": false,
    "pycharm": {
     "name": "#%%\n"
    }
   }
  },
  {
   "cell_type": "code",
   "execution_count": null,
   "outputs": [],
   "source": [],
   "metadata": {
    "collapsed": false,
    "pycharm": {
     "name": "#%%\n"
    }
   }
  }
 ],
 "metadata": {
  "kernelspec": {
   "display_name": "Python 3",
   "language": "python",
   "name": "python3"
  },
  "language_info": {
   "codemirror_mode": {
    "name": "ipython",
    "version": 2
   },
   "file_extension": ".py",
   "mimetype": "text/x-python",
   "name": "python",
   "nbconvert_exporter": "python",
   "pygments_lexer": "ipython2",
   "version": "2.7.6"
  }
 },
 "nbformat": 4,
 "nbformat_minor": 0
}